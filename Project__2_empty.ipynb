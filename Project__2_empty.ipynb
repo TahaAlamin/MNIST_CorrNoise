{
  "nbformat": 4,
  "nbformat_minor": 0,
  "metadata": {
    "accelerator": "GPU",
    "colab": {
      "name": "Project_#2_empty.ipynb",
      "provenance": [],
      "collapsed_sections": [],
      "toc_visible": true,
      "include_colab_link": true
    },
    "kernelspec": {
      "display_name": "Python 3",
      "language": "python",
      "name": "python3"
    },
    "language_info": {
      "codemirror_mode": {
        "name": "ipython",
        "version": 3
      },
      "file_extension": ".py",
      "mimetype": "text/x-python",
      "name": "python",
      "nbconvert_exporter": "python",
      "pygments_lexer": "ipython3",
      "version": "3.7.6"
    }
  },
  "cells": [
    {
      "cell_type": "markdown",
      "metadata": {
        "id": "view-in-github",
        "colab_type": "text"
      },
      "source": [
        "<a href=\"https://colab.research.google.com/github/TahaAlamin/MNIST_CorrNoise/blob/main/Project__2_empty.ipynb\" target=\"_parent\"><img src=\"https://colab.research.google.com/assets/colab-badge.svg\" alt=\"Open In Colab\"/></a>"
      ]
    },
    {
      "cell_type": "markdown",
      "metadata": {
        "id": "MV4osAJhnrTv"
      },
      "source": [
        "## Definitions"
      ]
    },
    {
      "cell_type": "code",
      "metadata": {
        "colab": {
          "base_uri": "https://localhost:8080/"
        },
        "id": "6Gqh8kPlgiFJ",
        "outputId": "e874cdbe-5497-4d9f-e96b-ec0c357a8df5"
      },
      "source": [
        "%matplotlib inline\n",
        "import os\n",
        "import numpy as np\n",
        "import pickle\n",
        "import matplotlib.pyplot as plt\n",
        "import tensorflow as tf\n",
        "\n",
        "from keras.utils import to_categorical\n",
        "from keras.callbacks import ReduceLROnPlateau, ModelCheckpoint, EarlyStopping\n",
        "from keras.optimizers import Adadelta, Adam, SGD\n",
        "from keras.layers import Input, Conv2D, Dense, MaxPooling2D, Dropout, Flatten, AveragePooling2D, Conv2DTranspose, UpSampling2D\n",
        "from keras.models import Sequential\n",
        "from keras.losses import categorical_crossentropy\n",
        "from keras.layers import LeakyReLU\n",
        "\n",
        "from google.colab import drive\n",
        "drive.mount(\"/content/gdrive\", force_remount=True)\n",
        "os.chdir(\"/content/gdrive/My Drive/Colab Notebooks\") # might have to change path to point to your Colab Notebooks folder"
      ],
      "execution_count": 1,
      "outputs": [
        {
          "output_type": "stream",
          "text": [
            "Mounted at /content/gdrive\n"
          ],
          "name": "stdout"
        }
      ]
    },
    {
      "cell_type": "markdown",
      "metadata": {
        "id": "-eJJXcB1n2kn"
      },
      "source": [
        "## Load and format data"
      ]
    },
    {
      "cell_type": "code",
      "metadata": {
        "colab": {
          "base_uri": "https://localhost:8080/",
          "height": 382
        },
        "id": "FgjqOlNDE3tJ",
        "outputId": "5976df63-e030-4621-d49e-0f0469873a2b"
      },
      "source": [
        "data = np.load('./MNIST_CorrNoise.npz')\n",
        "\n",
        "x_train = data['x_train']\n",
        "y_train = data['y_train']\n",
        "\n",
        "num_cls = len(np.unique(y_train))\n",
        "print('Number of classes: ' + str(num_cls))\n",
        "\n",
        "print('Example of handwritten digit with correlated noise: \\n')\n",
        "\n",
        "k = 3000\n",
        "plt.imshow(np.squeeze(x_train[k,:,:]))\n",
        "plt.show()\n",
        "print('Class: '+str(y_train[k])+'\\n')\n",
        "\n",
        "# RESHAPE and standarize\n",
        "x_train = np.expand_dims(x_train/255,axis=3)\n",
        "\n",
        "# convert class vectors to binary class matrices\n",
        "y_train = to_categorical(y_train, num_cls)\n",
        "\n",
        "print('Shape of x_train: '+str(x_train.shape))\n",
        "print('Shape of y_train: '+str(y_train.shape))"
      ],
      "execution_count": 2,
      "outputs": [
        {
          "output_type": "stream",
          "text": [
            "Number of classes: 10\n",
            "Example of handwritten digit with correlated noise: \n",
            "\n"
          ],
          "name": "stdout"
        },
        {
          "output_type": "display_data",
          "data": {
            "image/png": "[encoded data removed]",
            "text/plain": [
              "<Figure size 432x288 with 1 Axes>"
            ]
          },
          "metadata": {
            "tags": [],
            "needs_background": "light"
          }
        },
        {
          "output_type": "stream",
          "text": [
            "Class: 9\n",
            "\n",
            "Shape of x_train: (60000, 28, 28, 1)\n",
            "Shape of y_train: (60000, 10)\n"
          ],
          "name": "stdout"
        }
      ]
    },
    {
      "cell_type": "markdown",
      "metadata": {
        "id": "YFPhNWgloVIh"
      },
      "source": [
        "## Training"
      ]
    },
    {
      "cell_type": "code",
      "metadata": {
        "id": "sAE8wRG_pypQ"
      },
      "source": [
        "model_name='CNN' # To compare models, you can give them different names\n",
        "\n",
        "pweight='./weights/weights_' + model_name  + '.hdf5'\n",
        "\n",
        "if not os.path.exists('./weights'):\n",
        "  os.mkdir('./weights')\n",
        "\n",
        "## EXPLORE VALUES AND FIND A GOOD SET\n",
        "b_size =100 # batch size\n",
        "val_split = 0.3 # percentage of samples used for validation (e.g. 0.5)\n",
        "ep =20 # number of epochs"
      ],
      "execution_count": 3,
      "outputs": []
    },
    {
      "cell_type": "code",
      "metadata": {
        "colab": {
          "base_uri": "https://localhost:8080/"
        },
        "id": "ShIm473JGGoX",
        "outputId": "5efbbe2f-4a13-4bc2-8692-8133961704fc"
      },
      "source": [
        "input_shape = x_train.shape[1:4] #(28,28,1)\n",
        "\n",
        "model = tf.keras.models.Sequential([\n",
        "                                    tf.keras.layers.Conv2D(input_shape = (28, 28, 1),\n",
        "                                                           kernel_size= 3,padding=\"same\",\n",
        "                                                           filters= 32,\n",
        "                                                           strides= 1,                                                           \n",
        "                                                           activation= 'relu',\n",
        "                                                           kernel_initializer= 'VarianceScaling'),\n",
        "                                    tf.keras.layers.Conv2D(kernel_size=3, filters=32, activation= 'relu'),                                    \n",
        "                                    tf.keras.layers.BatchNormalization(),\n",
        "                                    tf.keras.layers.MaxPool2D(pool_size=(2, 2), strides=2, padding='valid'),\n",
        "                                    #tf.keras.layers.Conv2D(kernel_size=5, filters=32,strides=2,padding='same',activation= 'relu'),\n",
        "                                    tf.keras.layers.BatchNormalization(),\n",
        "                                    tf.keras.layers.Dropout(0.3),\n",
        "                                    tf.keras.layers.Conv2D(kernel_size= 3,padding=\"same\",\n",
        "                                                           filters=64,strides= 1,\n",
        "                                                           activation= 'relu',\n",
        "                                                           kernel_initializer= 'GlorotUniform'),                                    \n",
        "                                    tf.keras.layers.Conv2D(kernel_size=3, filters=64, activation= 'relu'),                                                                      \n",
        "                                    tf.keras.layers.MaxPool2D(pool_size=(2,2),strides=2, padding='valid'),\n",
        "                                    #tf.keras.layers.Conv2D(kernel_size=5, filters=64,strides=2,padding='same',activation= 'relu'),\n",
        "                                    tf.keras.layers.Dropout(0.3),\n",
        "                                    tf.keras.layers.Flatten(),\n",
        "                                    tf.keras.layers.Dense(units= 256,kernel_initializer= 'GlorotUniform',\n",
        "                                                          activation= 'relu'),\n",
        "                                    tf.keras.layers.Dropout(0.3),\n",
        "                                    tf.keras.layers.Dense(units= 10,kernel_initializer= 'GlorotUniform',\n",
        "                                                          activation= 'softmax')\n",
        "                                    ])\n",
        "\n",
        "model.compile(loss=categorical_crossentropy,\n",
        "              optimizer= \"adamax\",metrics=['accuracy'])#, # explore other optimizers:Adadelta() Adam, SGD\n",
        "\n",
        "model.summary()"
      ],
      "execution_count": 4,
      "outputs": [
        {
          "output_type": "stream",
          "text": [
            "Model: \"sequential\"\n",
            "_________________________________________________________________\n",
            "Layer (type)                 Output Shape              Param #   \n",
            "=================================================================\n",
            "conv2d (Conv2D)              (None, 28, 28, 32)        320       \n",
            "_________________________________________________________________\n",
            "conv2d_1 (Conv2D)            (None, 26, 26, 32)        9248      \n",
            "_________________________________________________________________\n",
            "batch_normalization (BatchNo (None, 26, 26, 32)        128       \n",
            "_________________________________________________________________\n",
            "max_pooling2d (MaxPooling2D) (None, 13, 13, 32)        0         \n",
            "_________________________________________________________________\n",
            "batch_normalization_1 (Batch (None, 13, 13, 32)        128       \n",
            "_________________________________________________________________\n",
            "dropout (Dropout)            (None, 13, 13, 32)        0         \n",
            "_________________________________________________________________\n",
            "conv2d_2 (Conv2D)            (None, 13, 13, 64)        18496     \n",
            "_________________________________________________________________\n",
            "conv2d_3 (Conv2D)            (None, 11, 11, 64)        36928     \n",
            "_________________________________________________________________\n",
            "max_pooling2d_1 (MaxPooling2 (None, 5, 5, 64)          0         \n",
            "_________________________________________________________________\n",
            "dropout_1 (Dropout)          (None, 5, 5, 64)          0         \n",
            "_________________________________________________________________\n",
            "flatten (Flatten)            (None, 1600)              0         \n",
            "_________________________________________________________________\n",
            "dense (Dense)                (None, 256)               409856    \n",
            "_________________________________________________________________\n",
            "dropout_2 (Dropout)          (None, 256)               0         \n",
            "_________________________________________________________________\n",
            "dense_1 (Dense)              (None, 10)                2570      \n",
            "=================================================================\n",
            "Total params: 477,674\n",
            "Trainable params: 477,546\n",
            "Non-trainable params: 128\n",
            "_________________________________________________________________\n"
          ],
          "name": "stdout"
        }
      ]
    },
    {
      "cell_type": "code",
      "metadata": {
        "id": "p2Ii3Irf3F0R",
        "colab": {
          "base_uri": "https://localhost:8080/",
          "height": 1000
        },
        "outputId": "43f5aaca-7162-4fbd-ed88-86e48e915413"
      },
      "source": [
        "\n",
        "# GlorotUniform\n",
        "## EXPLORE LAYERS, # CHANNELS... Conv2D, Dense, MaxPooling2D, Dropout, Flatten, AveragePooling2D, Conv2DTranspose, UpSampling2D\n",
        "## SEE KERAS MANUAL https://keras.io/layers/about-keras-layers/\n",
        "#model.add(Conv2D(1, kernel_size=(3, 3), activation='relu', input_shape=input_shape)) # explore num channels and adding more layers\n",
        "#model.add(Flatten()) # transforms matrix feature map to vector for dense layer (fully connected)\n",
        "##\n",
        "#model.add(Dense(num_cls, activation='softmax')) # This is a necessary output layer, however, you can add more dense layers before with different activation functions\n",
        "\n",
        "\n",
        "checkpointer = ModelCheckpoint(filepath=pweight, verbose=1, save_best_only=True)\n",
        "callbacks_list = [checkpointer] # explore adding other callbacks such as ReduceLROnPlateau, EarlyStopping\n",
        "\n",
        "history=model.fit(x_train, y_train,\n",
        "                        epochs=ep,\n",
        "                        batch_size=b_size,\n",
        "                        verbose=1,\n",
        "                        shuffle=True,\n",
        "                        validation_split = val_split,\n",
        "                        callbacks=callbacks_list)\n",
        "\n",
        "print('CNN weights saved in ' + pweight)\n",
        "\n",
        "# Plot loss vs epochs\n",
        "plt.plot(history.history['loss'])\n",
        "plt.plot(history.history['val_loss'])\n",
        "plt.title('model loss')\n",
        "plt.ylabel('loss')\n",
        "plt.xlabel('epoch')\n",
        "plt.legend(['train', 'val'], loc='upper right')\n",
        "plt.show()\n",
        "\n",
        "# Plot accuracy vs epochs\n",
        "plt.plot(history.history['accuracy'])\n",
        "plt.plot(history.history['val_accuracy'])\n",
        "plt.title('model accuracy')\n",
        "plt.ylabel('accuracy')\n",
        "plt.xlabel('epoch')\n",
        "plt.legend(['train', 'val'], loc='upper left')\n",
        "plt.show()"
      ],
      "execution_count": 5,
      "outputs": [
        {
          "output_type": "stream",
          "text": [
            "Epoch 1/20\n",
            "416/420 [============================>.] - ETA: 0s - loss: 1.5811 - accuracy: 0.4477\n",
            "Epoch 00001: val_loss improved from inf to 1.19370, saving model to ./weights/weights_CNN.hdf5\n",
            "420/420 [==============================] - 4s 9ms/step - loss: 1.5757 - accuracy: 0.4497 - val_loss: 1.1937 - val_accuracy: 0.5898\n",
            "Epoch 2/20\n",
            "419/420 [============================>.] - ETA: 0s - loss: 0.7996 - accuracy: 0.7326\n",
            "Epoch 00002: val_loss improved from 1.19370 to 0.51464, saving model to ./weights/weights_CNN.hdf5\n",
            "420/420 [==============================] - 3s 8ms/step - loss: 0.7995 - accuracy: 0.7326 - val_loss: 0.5146 - val_accuracy: 0.8325\n",
            "Epoch 3/20\n",
            "416/420 [============================>.] - ETA: 0s - loss: 0.6113 - accuracy: 0.7985\n",
            "Epoch 00003: val_loss improved from 0.51464 to 0.42858, saving model to ./weights/weights_CNN.hdf5\n",
            "420/420 [==============================] - 3s 8ms/step - loss: 0.6107 - accuracy: 0.7988 - val_loss: 0.4286 - val_accuracy: 0.8588\n",
            "Epoch 4/20\n",
            "419/420 [============================>.] - ETA: 0s - loss: 0.4970 - accuracy: 0.8344\n",
            "Epoch 00004: val_loss improved from 0.42858 to 0.37549, saving model to ./weights/weights_CNN.hdf5\n",
            "420/420 [==============================] - 3s 8ms/step - loss: 0.4969 - accuracy: 0.8344 - val_loss: 0.3755 - val_accuracy: 0.8767\n",
            "Epoch 5/20\n",
            "415/420 [============================>.] - ETA: 0s - loss: 0.4352 - accuracy: 0.8559\n",
            "Epoch 00005: val_loss improved from 0.37549 to 0.31646, saving model to ./weights/weights_CNN.hdf5\n",
            "420/420 [==============================] - 3s 8ms/step - loss: 0.4346 - accuracy: 0.8561 - val_loss: 0.3165 - val_accuracy: 0.8988\n",
            "Epoch 6/20\n",
            "418/420 [============================>.] - ETA: 0s - loss: 0.3938 - accuracy: 0.8690\n",
            "Epoch 00006: val_loss did not improve from 0.31646\n",
            "420/420 [==============================] - 3s 8ms/step - loss: 0.3940 - accuracy: 0.8689 - val_loss: 0.3274 - val_accuracy: 0.8917\n",
            "Epoch 7/20\n",
            "418/420 [============================>.] - ETA: 0s - loss: 0.3602 - accuracy: 0.8789\n",
            "Epoch 00007: val_loss improved from 0.31646 to 0.26447, saving model to ./weights/weights_CNN.hdf5\n",
            "420/420 [==============================] - 3s 8ms/step - loss: 0.3602 - accuracy: 0.8790 - val_loss: 0.2645 - val_accuracy: 0.9129\n",
            "Epoch 8/20\n",
            "416/420 [============================>.] - ETA: 0s - loss: 0.3337 - accuracy: 0.8877\n",
            "Epoch 00008: val_loss improved from 0.26447 to 0.25649, saving model to ./weights/weights_CNN.hdf5\n",
            "420/420 [==============================] - 3s 8ms/step - loss: 0.3335 - accuracy: 0.8877 - val_loss: 0.2565 - val_accuracy: 0.9158\n",
            "Epoch 9/20\n",
            "419/420 [============================>.] - ETA: 0s - loss: 0.3079 - accuracy: 0.8962\n",
            "Epoch 00009: val_loss improved from 0.25649 to 0.24528, saving model to ./weights/weights_CNN.hdf5\n",
            "420/420 [==============================] - 3s 8ms/step - loss: 0.3078 - accuracy: 0.8962 - val_loss: 0.2453 - val_accuracy: 0.9198\n",
            "Epoch 10/20\n",
            "414/420 [============================>.] - ETA: 0s - loss: 0.2848 - accuracy: 0.9043\n",
            "Epoch 00010: val_loss improved from 0.24528 to 0.24284, saving model to ./weights/weights_CNN.hdf5\n",
            "420/420 [==============================] - 3s 8ms/step - loss: 0.2847 - accuracy: 0.9042 - val_loss: 0.2428 - val_accuracy: 0.9196\n",
            "Epoch 11/20\n",
            "415/420 [============================>.] - ETA: 0s - loss: 0.2726 - accuracy: 0.9072\n",
            "Epoch 00011: val_loss improved from 0.24284 to 0.22737, saving model to ./weights/weights_CNN.hdf5\n",
            "420/420 [==============================] - 3s 8ms/step - loss: 0.2727 - accuracy: 0.9070 - val_loss: 0.2274 - val_accuracy: 0.9239\n",
            "Epoch 12/20\n",
            "418/420 [============================>.] - ETA: 0s - loss: 0.2614 - accuracy: 0.9113\n",
            "Epoch 00012: val_loss improved from 0.22737 to 0.22567, saving model to ./weights/weights_CNN.hdf5\n",
            "420/420 [==============================] - 3s 8ms/step - loss: 0.2614 - accuracy: 0.9113 - val_loss: 0.2257 - val_accuracy: 0.9249\n",
            "Epoch 13/20\n",
            "415/420 [============================>.] - ETA: 0s - loss: 0.2426 - accuracy: 0.9161\n",
            "Epoch 00013: val_loss did not improve from 0.22567\n",
            "420/420 [==============================] - 3s 8ms/step - loss: 0.2432 - accuracy: 0.9161 - val_loss: 0.2257 - val_accuracy: 0.9251\n",
            "Epoch 14/20\n",
            "416/420 [============================>.] - ETA: 0s - loss: 0.2345 - accuracy: 0.9199\n",
            "Epoch 00014: val_loss improved from 0.22567 to 0.22280, saving model to ./weights/weights_CNN.hdf5\n",
            "420/420 [==============================] - 3s 8ms/step - loss: 0.2343 - accuracy: 0.9199 - val_loss: 0.2228 - val_accuracy: 0.9257\n",
            "Epoch 15/20\n",
            "415/420 [============================>.] - ETA: 0s - loss: 0.2214 - accuracy: 0.9240\n",
            "Epoch 00015: val_loss improved from 0.22280 to 0.21893, saving model to ./weights/weights_CNN.hdf5\n",
            "420/420 [==============================] - 3s 8ms/step - loss: 0.2216 - accuracy: 0.9240 - val_loss: 0.2189 - val_accuracy: 0.9273\n",
            "Epoch 16/20\n",
            "418/420 [============================>.] - ETA: 0s - loss: 0.2125 - accuracy: 0.9276\n",
            "Epoch 00016: val_loss improved from 0.21893 to 0.20902, saving model to ./weights/weights_CNN.hdf5\n",
            "420/420 [==============================] - 3s 8ms/step - loss: 0.2123 - accuracy: 0.9276 - val_loss: 0.2090 - val_accuracy: 0.9309\n",
            "Epoch 17/20\n",
            "418/420 [============================>.] - ETA: 0s - loss: 0.2022 - accuracy: 0.9307\n",
            "Epoch 00017: val_loss did not improve from 0.20902\n",
            "420/420 [==============================] - 3s 8ms/step - loss: 0.2021 - accuracy: 0.9306 - val_loss: 0.2111 - val_accuracy: 0.9298\n",
            "Epoch 18/20\n",
            "418/420 [============================>.] - ETA: 0s - loss: 0.1949 - accuracy: 0.9315\n",
            "Epoch 00018: val_loss did not improve from 0.20902\n",
            "420/420 [==============================] - 3s 8ms/step - loss: 0.1948 - accuracy: 0.9316 - val_loss: 0.2116 - val_accuracy: 0.9295\n",
            "Epoch 19/20\n",
            "416/420 [============================>.] - ETA: 0s - loss: 0.1891 - accuracy: 0.9342\n",
            "Epoch 00019: val_loss improved from 0.20902 to 0.20746, saving model to ./weights/weights_CNN.hdf5\n",
            "420/420 [==============================] - 4s 10ms/step - loss: 0.1891 - accuracy: 0.9343 - val_loss: 0.2075 - val_accuracy: 0.9304\n",
            "Epoch 20/20\n",
            "420/420 [==============================] - ETA: 0s - loss: 0.1793 - accuracy: 0.9371\n",
            "Epoch 00020: val_loss did not improve from 0.20746\n",
            "420/420 [==============================] - 4s 8ms/step - loss: 0.1793 - accuracy: 0.9371 - val_loss: 0.2148 - val_accuracy: 0.9291\n",
            "CNN weights saved in ./weights/weights_CNN.hdf5\n"
          ],
          "name": "stdout"
        },
        {
          "output_type": "display_data",
          "data": {
            "image/png": "[encoded data removed]",
            "text/plain": [
              "<Figure size 432x288 with 1 Axes>"
            ]
          },
          "metadata": {
            "tags": [],
            "needs_background": "light"
          }
        },
        {
          "output_type": "display_data",
          "data": {
            "image/png": "[encoded data removed]",
            "text/plain": [
              "<Figure size 432x288 with 1 Axes>"
            ]
          },
          "metadata": {
            "tags": [],
            "needs_background": "light"
          }
        }
      ]
    },
    {
      "cell_type": "markdown",
      "metadata": {
        "id": "XK3dbqKloipP"
      },
      "source": [
        "## Make predictions in test set"
      ]
    },
    {
      "cell_type": "code",
      "metadata": {
        "id": "OPLSp4PppXE1",
        "colab": {
          "base_uri": "https://localhost:8080/"
        },
        "outputId": "b6b196d5-e1d6-4496-93a1-cbda3cacf28e"
      },
      "source": [
        "from keras.models import load_model\n",
        "\n",
        "## LOAD DATA\n",
        "data = np.load('./MNIST_CorrNoise.npz')\n",
        "\n",
        "x_test = data['x_test']\n",
        "y_test = data['y_test']\n",
        "\n",
        "num_cls = len(np.unique(y_test))\n",
        "print('Number of classes: ' + str(num_cls))\n",
        "\n",
        "# RESHAPE and standarize\n",
        "x_test = np.expand_dims(x_test/255,axis=3)\n",
        "\n",
        "print('Shape of x_train: '+str(x_test.shape)+'\\n')\n",
        "\n",
        "## Define model parameters\n",
        "model_name='CNN' # To compare models, you can give them different names\n",
        "pweight='./weights/weights_' + model_name  + '.hdf5'\n",
        "\n",
        "model = load_model(pweight)\n",
        "y_pred = model.predict_classes(x_test)\n",
        "\n",
        "Acc_pred = sum(y_pred == y_test)/len(y_test)\n",
        "\n",
        "print('Accuracy in test set is: '+str(Acc_pred))\n"
      ],
      "execution_count": 6,
      "outputs": [
        {
          "output_type": "stream",
          "text": [
            "Number of classes: 10\n",
            "Shape of x_train: (10000, 28, 28, 1)\n",
            "\n",
            "WARNING:tensorflow:From <ipython-input-6-e14d59d76686>:22: Sequential.predict_classes (from tensorflow.python.keras.engine.sequential) is deprecated and will be removed after 2021-01-01.\n",
            "Instructions for updating:\n",
            "Please use instead:* `np.argmax(model.predict(x), axis=-1)`,   if your model does multi-class classification   (e.g. if it uses a `softmax` last-layer activation).* `(model.predict(x) > 0.5).astype(\"int32\")`,   if your model does binary classification   (e.g. if it uses a `sigmoid` last-layer activation).\n",
            "Accuracy in test set is: 0.932\n"
          ],
          "name": "stdout"
        }
      ]
    }
  ]
}